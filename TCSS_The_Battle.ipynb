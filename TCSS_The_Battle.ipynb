{
    "nbformat_minor": 1, 
    "cells": [
        {
            "source": "# Capstone Project - The Battle of Neighborhood", 
            "cell_type": "markdown", 
            "metadata": {
                "collapsed": true
            }
        }, 
        {
            "source": "# Introduction/Business Problems", 
            "cell_type": "markdown", 
            "metadata": {}
        }, 
        {
            "source": "## The Corporate Supplies & Solutions - Company Planning to expand overseas branch in New York", 
            "cell_type": "markdown", 
            "metadata": {}
        }, 
        {
            "source": "CHALLENGES : The Corporate Supplies & Solutions (TCSS) - have a goal to become global company via product Quality Products and Services to the Corporate Sector, after having successful business in Asian Countries, now they want to move in USA and want to start with NEW YORK City.\n\nOFFICE Supplies is the core requirement of every office and there are thousands of competitors everywhere, so the compeptition level is always high, but the probability of success also become high on the basis of having SHOWROOM/OFFICE on PERFECT Strategic Location.\n\nThus this company wants to start their subsidiary in US to supply the quality products and services, and they have to decide on the location of their showroom/office in New York to open. We have been approached to do the study and suggest them an ideal location.\n\nBusiness Problem\n\nCompetitors - There are thousands of competitors outlet already exists in key business locations, they must need to identify ther location where competitor dont exists.\nCost - There is fixed limited budget, and they have to get the Showroom within that budget.", 
            "cell_type": "markdown", 
            "metadata": {}
        }, 
        {
            "source": "## Trusted Data Source", 
            "cell_type": "markdown", 
            "metadata": {}
        }, 
        {
            "source": "The following trusted data sources will be used to conduct Data exploration and other forms of data analysis as part of the methodology for the project.\n\nFoursquare Location Data This API has a database of more than 105 million places. This project would use Four-square API as its prime data gathering source. Many organizations are using to geo-tag their photos with detailed info about a destination, while also serving up contextually relevant locations for those who are searching for a place to eat, drink or explore. \n\nAPI provides the ability to perform location search, location sharing and details about a business. Foursquare users can also use photos, tips and reviews in many productive ways to add value to the results. (Venues [Office Supplies, Stationery, Computer Shops], TOP tips, Favourites, User Experience, etc.),  Metro (distance) will be used to cluster, segment, target, and position to craft recommendations for the company management.\n\nwe will be conducting clustering and neighbourhood based analysis leveraging primarily Foursquare APIs and tools such as KNN and relevant Unsupervised machine learning algorithm K-mean clustering would be applied to form the clusters of different categories of places residing in and around the neighborhoods.\n\nFolium- Python visualization library would be used to visualize the neighborhoods cluster distribution of NY city over an interactive leaflet map. Using the data available in the above sources.\n\nExtensive comparative analysis of two randomly picked neighborhoods world be carried out to derive the desirable insights from the outcomes using python\u2019s scientific libraries Pandas, NumPy and Scikit-learn. \n\nThese clusters from each of those two chosen neighborhoods would be analyzed individually collectively and comparatively to derive the conclusions.", 
            "cell_type": "markdown", 
            "metadata": {}
        }, 
        {
            "source": "", 
            "cell_type": "markdown", 
            "metadata": {}
        }
    ], 
    "nbformat": 4, 
    "metadata": {
        "kernelspec": {
            "display_name": "Python 3.6", 
            "name": "python3", 
            "language": "python"
        }, 
        "language_info": {
            "mimetype": "text/x-python", 
            "nbconvert_exporter": "python", 
            "version": "3.6.8", 
            "name": "python", 
            "pygments_lexer": "ipython3", 
            "file_extension": ".py", 
            "codemirror_mode": {
                "version": 3, 
                "name": "ipython"
            }
        }
    }
}